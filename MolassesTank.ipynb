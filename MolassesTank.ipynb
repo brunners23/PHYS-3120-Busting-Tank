{
 "cells": [
  {
   "cell_type": "markdown",
   "id": "0b682a49-5e65-4a0c-8d35-e9838ddfdfbb",
   "metadata": {},
   "source": [
    "# Importing"
   ]
  },
  {
   "cell_type": "code",
   "execution_count": 2,
   "id": "cd72d8ce-103d-4cb8-9994-1e9b7d7b8778",
   "metadata": {},
   "outputs": [],
   "source": [
    "import numpy as np\n",
    "import matplotlib.pyplot as mpl"
   ]
  },
  {
   "cell_type": "markdown",
   "id": "b76f3ab0-dc16-4c90-a29b-ba101393489b",
   "metadata": {},
   "source": [
    "# Definfing Variables"
   ]
  },
  {
   "cell_type": "code",
   "execution_count": 15,
   "id": "41413783-7049-4c27-b4ec-89bed2e90cac",
   "metadata": {},
   "outputs": [],
   "source": [
    "StartingTempMol = 100 #change this to Temp we are using\n",
    "AirTemp= 300 # Air temperature in Kelvin\n",
    "EndDistance= 135 # End distance in meters\n",
    "TankRadi= 13.5 # Tank radius in meters\n",
    "TankHeight= 15 # Tank height in meters\n",
    "StartingVelMol= 100 #change this to velocity we are using"
   ]
  },
  {
   "cell_type": "markdown",
   "id": "f0c7bc08",
   "metadata": {},
   "source": [
    "# Initial conditions"
   ]
  },
  {
   "cell_type": "code",
   "execution_count": 17,
   "id": "017c1319",
   "metadata": {},
   "outputs": [],
   "source": [
    "# Spatial variables\n",
    "N=100000 # Number of spatial steps\n",
    "a=EndDistance/(N-1) # Size of a spatial node\n",
    "indexToPos = np.arange(0,135+a,a) #Converts a 0-based index to a position in meters\n",
    "def posToIndex(i): #Converts a position in meters to a 0-based index\n",
    "    return np.floor(i/a)\n",
    "\n",
    "# Temporal variables\n",
    "h=0.01 # Time step in seconds\n",
    "\n",
    "# Tracking position\n",
    "hasMolasses = np.zeros(N,dtype=bool) # contains true if there is molasses at a given \n",
    "                                     # point, false otherwise\n",
    "hasMolasses[0] = True # Initially, there is only molasses at the hole\n",
    "\n",
    "# Heat equation\n",
    "temp = np.full(N, AirTemp, dtype=np.float64) # Stores the temperature at the given index\n",
    "temp[0] = StartingTempMol # At the hole, the molasses is the same temperature as in the tank\n",
    "\n",
    "# Viscosity equation\n",
    "visc = np.zeros(N, dtype=np.float64)\n",
    "\n",
    "# Velocity equation\n",
    "vel = np.zeros(N, dtype=np.float64)\n",
    "vel[0] = StartingVelMol"
   ]
  },
  {
   "cell_type": "markdown",
   "id": "689c401d",
   "metadata": {},
   "source": [
    "# Tracking position"
   ]
  },
  {
   "cell_type": "code",
   "execution_count": null,
   "id": "d09d58cc",
   "metadata": {},
   "outputs": [],
   "source": [
    "MAX_IND = 0 # Stores the maximum index that is filled with molasses. Will only be valid\n",
    "            # in 1D.\n",
    "\n",
    "def xStep():\n",
    "    v = vel[MAX_IND]\n",
    "    dx = v*h\n",
    "    dind = posToIndex(dx)\n",
    "    for i in range(MAX_IND+1, MAX_IND + 1 + dind):\n",
    "        hasMolasses[i] = True\n",
    "    MAX_IND = MAX_IND + dind\n",
    "    \n",
    "\n"
   ]
  },
  {
   "cell_type": "markdown",
   "id": "b97adf7a-043c-4177-ba2a-a5a457e8f01e",
   "metadata": {},
   "source": [
    "# Heat Equation"
   ]
  },
  {
   "cell_type": "code",
   "execution_count": 11,
   "id": "b1ab7443-52be-4611-9037-9291fd5e6607",
   "metadata": {},
   "outputs": [],
   "source": [
    "def HeatEQ (q,t):\n",
    "    return \"hello\" #fill in with equation"
   ]
  },
  {
   "cell_type": "markdown",
   "id": "25052601-314d-4242-a93e-3dbe2e659022",
   "metadata": {},
   "source": [
    "# Viscosity Equation"
   ]
  },
  {
   "cell_type": "code",
   "execution_count": 18,
   "id": "73b8d826-8fe1-4255-accc-2d761e1f7785",
   "metadata": {},
   "outputs": [],
   "source": [
    "def ViscEQ (q):\n",
    "    return \"hello\" #fill in with eq"
   ]
  },
  {
   "cell_type": "markdown",
   "id": "d1d603c4-eab7-4d6d-9058-42488aae9a01",
   "metadata": {},
   "source": [
    "# Velocity Equation"
   ]
  },
  {
   "cell_type": "code",
   "execution_count": 16,
   "id": "0eabc106-d0b1-436b-b576-47ab607d8f8c",
   "metadata": {},
   "outputs": [],
   "source": [
    "def VelEQ (q):\n",
    "    return \"hello\" #fill in with eq"
   ]
  },
  {
   "cell_type": "code",
   "execution_count": null,
   "id": "752fda8b-549b-4e5c-8f81-33c168837782",
   "metadata": {},
   "outputs": [],
   "source": []
  }
 ],
 "metadata": {
  "kernelspec": {
   "display_name": "Python 3",
   "language": "python",
   "name": "python3"
  },
  "language_info": {
   "codemirror_mode": {
    "name": "ipython",
    "version": 3
   },
   "file_extension": ".py",
   "mimetype": "text/x-python",
   "name": "python",
   "nbconvert_exporter": "python",
   "pygments_lexer": "ipython3",
   "version": "3.13.1"
  }
 },
 "nbformat": 4,
 "nbformat_minor": 5
}
