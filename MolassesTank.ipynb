{
 "cells": [
  {
   "cell_type": "markdown",
   "id": "0b682a49-5e65-4a0c-8d35-e9838ddfdfbb",
   "metadata": {},
   "source": [
    "# Importing"
   ]
  },
  {
   "cell_type": "code",
   "execution_count": 1,
   "id": "cd72d8ce-103d-4cb8-9994-1e9b7d7b8778",
   "metadata": {},
   "outputs": [],
   "source": [
    "import numpy as np\n",
    "import matplotlib.pyplot as mpl"
   ]
  },
  {
   "cell_type": "markdown",
   "id": "b76f3ab0-dc16-4c90-a29b-ba101393489b",
   "metadata": {},
   "source": [
    "# Definfing Variables"
   ]
  },
  {
   "cell_type": "code",
   "execution_count": 2,
   "id": "41413783-7049-4c27-b4ec-89bed2e90cac",
   "metadata": {},
   "outputs": [],
   "source": [
    "StartingTempMol = 283.15 #change this to Temp we are using\n",
    "AirTemp= 277.55 # Air temperature in Kelvin\n",
    "EndDistance= 135 # End distance in meters\n",
    "TankRadi= 13.5 # Tank radius in meters\n",
    "TankHeight= 15 # Tank height in meters\n",
    "StartingVelMol= 100 #change this to velocity we are using\n",
    "density = 1415 # Density in kg/m^3"
   ]
  },
  {
   "cell_type": "markdown",
   "id": "f0c7bc08",
   "metadata": {},
   "source": [
    "# Initial conditions"
   ]
  },
  {
   "cell_type": "code",
   "execution_count": 3,
   "id": "017c1319",
   "metadata": {},
   "outputs": [],
   "source": [
    "# Spatial variables\n",
    "N=100000 # Number of spatial steps\n",
    "a=EndDistance/(N-1) # Size of a spatial node\n",
    "indexToPos = np.arange(0,135+a,a) #Converts a 0-based index to a position in meters\n",
    "def posToIndex(i): #Converts a position in meters to a 0-based index\n",
    "    return np.floor(i/a)\n",
    "\n",
    "# Temporal variables\n",
    "h=0.01 # Time step in seconds\n",
    "\n",
    "# Tracking position\n",
    "hasMolasses = np.zeros(N,dtype=bool) # contains true if there is molasses at a given \n",
    "                                     # point, false otherwise\n",
    "hasMolasses[0] = True # Initially, there is only molasses at the hole\n",
    "\n",
    "# Heat equation\n",
    "temp = np.full(N, AirTemp, dtype=np.float64) # Stores the temperature at the given index\n",
    "temp[0] = StartingTempMol # At the hole, the molasses is the same temperature as in the tank\n",
    "\n",
    "# Viscosity equation\n",
    "visc = np.zeros(N, dtype=np.float64)\n",
    "\n",
    "# Velocity equation\n",
    "vel = np.zeros(N, dtype=np.float64)\n",
    "vel[0] = StartingVelMol"
   ]
  },
  {
   "cell_type": "markdown",
   "id": "689c401d",
   "metadata": {},
   "source": [
    "# Tracking position"
   ]
  },
  {
   "cell_type": "code",
   "execution_count": 4,
   "id": "d09d58cc",
   "metadata": {},
   "outputs": [],
   "source": [
    "MAX_IND = 0 # Stores the maximum index that is filled with molasses. Will only be valid\n",
    "            # in 1D.\n",
    "\n",
    "def xStep():\n",
    "    \n",
    "    v = vel[MAX_IND]\n",
    "    dx = v*h\n",
    "    dind = posToIndex(dx)\n",
    "    for i in range(MAX_IND+1, MAX_IND + 1 + dind):\n",
    "        hasMolasses[i] = True\n",
    "    MAX_IND = MAX_IND + dind\n",
    "    \n",
    "\n"
   ]
  },
  {
   "cell_type": "markdown",
   "id": "b97adf7a-043c-4177-ba2a-a5a457e8f01e",
   "metadata": {},
   "source": [
    "# Heat Equation"
   ]
  },
  {
   "cell_type": "code",
   "execution_count": 5,
   "id": "b1ab7443-52be-4611-9037-9291fd5e6607",
   "metadata": {},
   "outputs": [],
   "source": [
    "c = h/(a*a)\n",
    "\n",
    "def alpha(T):\n",
    "    k = 1.3e-3*T + 0.403\n",
    "    return k/(2.56e3*1415)\n",
    "\n",
    "def HeatStep():\n",
    "    alphaarr = alpha(temp)\n",
    "    Tp = np.zeros(N, dtype=np.float64)\n",
    "    Tp[0] = StartingTempMol\n",
    "    Tp[1:MAX_IND] = temp[1:MAX_IND] + c*alphaarr*(temp[2:MAX_IND+1] + temp[:MAX_IND-1] - 2*temp[1:MAX_IND])\n",
    "    temp = Tp\n",
    "\n",
    "\n",
    "def HeatEQ (q,t):\n",
    "    return \"hello\" #fill in with equation"
   ]
  },
  {
   "cell_type": "markdown",
   "id": "25052601-314d-4242-a93e-3dbe2e659022",
   "metadata": {},
   "source": [
    "# Viscosity Equation"
   ]
  },
  {
   "cell_type": "code",
   "execution_count": 6,
   "id": "73b8d826-8fe1-4255-accc-2d761e1f7785",
   "metadata": {},
   "outputs": [],
   "source": [
    "E0 = 53.074\n",
    "R = 8.314\n",
    "mu0 = 2.3e-9\n",
    "\n",
    "def ViscEQ(T):\n",
    "    return mu0 * np.exp(-E0/(R*T))"
   ]
  },
  {
   "cell_type": "markdown",
   "id": "d1d603c4-eab7-4d6d-9058-42488aae9a01",
   "metadata": {},
   "source": [
    "# Equation of Motion"
   ]
  },
  {
   "cell_type": "code",
   "execution_count": null,
   "id": "0eabc106-d0b1-436b-b576-47ab607d8f8c",
   "metadata": {},
   "outputs": [
    {
     "ename": "UnboundLocalError",
     "evalue": "cannot access local variable 'MAX_IND' where it is not associated with a value",
     "output_type": "error",
     "traceback": [
      "\u001b[1;31m---------------------------------------------------------------------------\u001b[0m",
      "\u001b[1;31mUnboundLocalError\u001b[0m                         Traceback (most recent call last)",
      "Cell \u001b[1;32mIn[7], line 32\u001b[0m\n\u001b[0;32m     29\u001b[0m         t \u001b[38;5;241m+\u001b[39m\u001b[38;5;241m=\u001b[39m dt\n\u001b[0;32m     31\u001b[0m     \u001b[38;5;28;01mreturn\u001b[39;00m velBox\n\u001b[1;32m---> 32\u001b[0m mpl\u001b[38;5;241m.\u001b[39mimshow(velMap(\u001b[38;5;241m1\u001b[39m),aspect\u001b[38;5;241m=\u001b[39m\u001b[38;5;124m\"\u001b[39m\u001b[38;5;124mauto\u001b[39m\u001b[38;5;124m\"\u001b[39m)\n\u001b[0;32m     33\u001b[0m mpl\u001b[38;5;241m.\u001b[39mshow()\n",
      "Cell \u001b[1;32mIn[7], line 23\u001b[0m, in \u001b[0;36mvelMap\u001b[1;34m(duration)\u001b[0m\n\u001b[0;32m     19\u001b[0m velBox \u001b[38;5;241m=\u001b[39m [vel] \u001b[38;5;66;03m# array of velocity arrays: each row is one timestep\u001b[39;00m\n\u001b[0;32m     21\u001b[0m \u001b[38;5;28;01mwhile\u001b[39;00m t \u001b[38;5;241m<\u001b[39m duration:\n\u001b[1;32m---> 23\u001b[0m     xStep()\n\u001b[0;32m     25\u001b[0m     \u001b[38;5;28;01mif\u001b[39;00m MAX_IND \u001b[38;5;241m>\u001b[39m \u001b[38;5;241m2\u001b[39m:\n\u001b[0;32m     26\u001b[0m         newvel \u001b[38;5;241m=\u001b[39m velStep()\n",
      "Cell \u001b[1;32mIn[4], line 6\u001b[0m, in \u001b[0;36mxStep\u001b[1;34m()\u001b[0m\n\u001b[0;32m      4\u001b[0m \u001b[38;5;28;01mdef\u001b[39;00m \u001b[38;5;21mxStep\u001b[39m():\n\u001b[1;32m----> 6\u001b[0m     v \u001b[38;5;241m=\u001b[39m vel[MAX_IND]\n\u001b[0;32m      7\u001b[0m     dx \u001b[38;5;241m=\u001b[39m v\u001b[38;5;241m*\u001b[39mh\n\u001b[0;32m      8\u001b[0m     dind \u001b[38;5;241m=\u001b[39m posToIndex(dx)\n",
      "\u001b[1;31mUnboundLocalError\u001b[0m: cannot access local variable 'MAX_IND' where it is not associated with a value"
     ]
    }
   ],
   "source": [
    "# Note: Confined to 1 dimension, velocity is a scalar quantity, and gravity isn't a consideration\n",
    "\n",
    "MAX_IND = 0\n",
    "\n",
    "def velStep(): # calculates the velocity at any position within any one timestep \n",
    "    muarr = ViscEQ(temp)\n",
    "    velp = np.zeros(N, dtype=np.float64)\n",
    "    velp[0] = StartingVelMol\n",
    "    velp[1:MAX_IND] = vel[1:MAX_IND] + (-muarr*c)*(vel[2:MAX_IND+1] + vel[:MAX_IND-1] - 2*vel[1:MAX_IND])/density\n",
    "    vel = velp\n",
    "    \n",
    "\n",
    "# The stuff below is experimental\n",
    "# Trying to define a function that produces a 2D array of velocity values\n",
    "# With each row representing velocity values at a particular timestep\n",
    "# and each column representing a specific value in the simulation\n",
    "# (i.e. all column 1 entries are at x meters, column 2 is at x + a, etc.)\n",
    "# If this works we can do it for viscosity and temperature as well\n",
    "\n",
    "def velMap(duration):\n",
    "    dt = h\n",
    "\n",
    "    t = 0\n",
    "\n",
    "    velBox = [vel] # array of velocity arrays: each row is one timestep\n",
    "\n",
    "    while t < duration:\n",
    "        \n",
    "        xStep()\n",
    "\n",
    "        if MAX_IND > 2:\n",
    "            newvel = velStep()\n",
    "            velBox += [vel]\n",
    "        \n",
    "        t += dt\n",
    "    \n",
    "    return velBox\n",
    "mpl.imshow(velMap(1),aspect=\"auto\")\n",
    "mpl.show()\n",
    "    \n"
   ]
  },
  {
   "cell_type": "code",
   "execution_count": null,
   "id": "82155824",
   "metadata": {},
   "outputs": [],
   "source": []
  },
  {
   "cell_type": "code",
   "execution_count": null,
   "id": "752fda8b-549b-4e5c-8f81-33c168837782",
   "metadata": {},
   "outputs": [],
   "source": [
    "'''def velMap(duration):\n",
    "    dt = h\n",
    "\n",
    "    t = 0\n",
    "\n",
    "    velBox = [vel] # array of velocity arrays: each row is one timestep\n",
    "\n",
    "    while t < duration:\n",
    "        newvel = velStep()\n",
    "        velBox += [vel]\n",
    "        t += dt\n",
    "    \n",
    "    return velBox\n",
    "mpl.imshow(velMap(1))\n",
    "mpl.show()'''"
   ]
  }
 ],
 "metadata": {
  "kernelspec": {
   "display_name": "environment1",
   "language": "python",
   "name": "python3"
  },
  "language_info": {
   "codemirror_mode": {
    "name": "ipython",
    "version": 3
   },
   "file_extension": ".py",
   "mimetype": "text/x-python",
   "name": "python",
   "nbconvert_exporter": "python",
   "pygments_lexer": "ipython3",
   "version": "3.12.8"
  }
 },
 "nbformat": 4,
 "nbformat_minor": 5
}
