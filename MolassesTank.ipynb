{
 "cells": [
  {
   "cell_type": "markdown",
   "id": "0b682a49-5e65-4a0c-8d35-e9838ddfdfbb",
   "metadata": {},
   "source": [
    "# Importing"
   ]
  },
  {
   "cell_type": "code",
   "execution_count": 2,
   "id": "cd72d8ce-103d-4cb8-9994-1e9b7d7b8778",
   "metadata": {},
   "outputs": [],
   "source": [
    "import numpy as np\n",
    "import matplotlib as mpl"
   ]
  },
  {
   "cell_type": "markdown",
   "id": "b76f3ab0-dc16-4c90-a29b-ba101393489b",
   "metadata": {},
   "source": [
    "# Definfing Variables"
   ]
  },
  {
   "cell_type": "code",
   "execution_count": 5,
   "id": "41413783-7049-4c27-b4ec-89bed2e90cac",
   "metadata": {},
   "outputs": [],
   "source": [
    "StartingTempMol = 100 #change this to Temp we are using\n",
    "AirTemp= 300\n",
    "EndDistance= 135\n",
    "TankRadi= 13.5\n",
    "StartingVelMol= 100 #change this to velocity we are using\n",
    "AmountofMol= 100 #change to mass/volume and rename variable"
   ]
  },
  {
   "cell_type": "markdown",
   "id": "b97adf7a-043c-4177-ba2a-a5a457e8f01e",
   "metadata": {},
   "source": [
    "# Heat Equation"
   ]
  },
  {
   "cell_type": "code",
   "execution_count": 11,
   "id": "b1ab7443-52be-4611-9037-9291fd5e6607",
   "metadata": {},
   "outputs": [],
   "source": [
    "def HeatEQ (q,t):\n",
    "    return \"hello\" #fill in with equation"
   ]
  },
  {
   "cell_type": "markdown",
   "id": "25052601-314d-4242-a93e-3dbe2e659022",
   "metadata": {},
   "source": [
    "# Viscosity Equation"
   ]
  },
  {
   "cell_type": "code",
   "execution_count": 18,
   "id": "73b8d826-8fe1-4255-accc-2d761e1f7785",
   "metadata": {},
   "outputs": [],
   "source": [
    "def ViscEQ (q):\n",
    "    return \"hello\" #fill in with eq"
   ]
  },
  {
   "cell_type": "markdown",
   "id": "d1d603c4-eab7-4d6d-9058-42488aae9a01",
   "metadata": {},
   "source": [
    "# Velocity Equation"
   ]
  },
  {
   "cell_type": "code",
   "execution_count": 16,
   "id": "0eabc106-d0b1-436b-b576-47ab607d8f8c",
   "metadata": {},
   "outputs": [],
   "source": [
    "def VelEQ (q):\n",
    "    return \"hello\" #fill in with eq"
   ]
  },
  {
   "cell_type": "code",
   "execution_count": null,
   "id": "752fda8b-549b-4e5c-8f81-33c168837782",
   "metadata": {},
   "outputs": [],
   "source": []
  }
 ],
 "metadata": {
  "kernelspec": {
   "display_name": "Python [conda env:base] *",
   "language": "python",
   "name": "conda-base-py"
  },
  "language_info": {
   "codemirror_mode": {
    "name": "ipython",
    "version": 3
   },
   "file_extension": ".py",
   "mimetype": "text/x-python",
   "name": "python",
   "nbconvert_exporter": "python",
   "pygments_lexer": "ipython3",
   "version": "3.12.7"
  }
 },
 "nbformat": 4,
 "nbformat_minor": 5
}
