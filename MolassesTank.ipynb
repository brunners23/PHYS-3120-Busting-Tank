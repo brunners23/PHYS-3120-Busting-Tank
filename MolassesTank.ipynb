{
 "cells": [
  {
   "cell_type": "markdown",
   "id": "0b682a49-5e65-4a0c-8d35-e9838ddfdfbb",
   "metadata": {},
   "source": [
    "# Importing"
   ]
  },
  {
   "cell_type": "code",
   "execution_count": 13,
   "id": "cd72d8ce-103d-4cb8-9994-1e9b7d7b8778",
   "metadata": {},
   "outputs": [],
   "source": [
    "import numpy as np\n",
    "import matplotlib.pyplot as mpl"
   ]
  },
  {
   "cell_type": "markdown",
   "id": "b76f3ab0-dc16-4c90-a29b-ba101393489b",
   "metadata": {},
   "source": [
    "# Definfing Variables"
   ]
  },
  {
   "cell_type": "code",
   "execution_count": 14,
   "id": "41413783-7049-4c27-b4ec-89bed2e90cac",
   "metadata": {},
   "outputs": [],
   "source": [
    "StartingTempMol = 283.15 #change this to Temp we are using\n",
    "AirTemp= 277.55 # Air temperature in Kelvin\n",
    "EndDistance= 135 # End distance in meters\n",
    "TankRadi= 13.5 # Tank radius in meters\n",
    "TankHeight= 15 # Tank height in meters\n",
    "StartingVelMol= 100 #change this to velocity we are using\n",
    "density = 1415 # Density in kg/m^3"
   ]
  },
  {
   "cell_type": "markdown",
   "id": "f0c7bc08",
   "metadata": {},
   "source": [
    "# Initial conditions"
   ]
  },
  {
   "cell_type": "code",
   "execution_count": null,
   "id": "017c1319",
   "metadata": {},
   "outputs": [],
   "source": [
    "# Spatial variables\n",
    "N=100000 # Number of spatial steps\n",
    "a=EndDistance/(N-1) # Size of a spatial node\n",
    "indexToPos = np.arange(0,135+a,a) #Converts a 0-based index to a position in meters\n",
    "def posToIndex(i): #Converts a position in meters to a 0-based index\n",
    "    return np.floor(i/a)\n",
    "\n",
    "# Temporal variables\n",
    "\n",
    "h=0.01 # Time step in seconds\n",
    "\n",
    "# Tracking position\n",
    "hasMolasses = np.zeros(N,dtype=bool) # contains true if there is molasses at a given \n",
    "                                     # point, false otherwise\n",
    "hasMolasses[0] = True # Initially, there is only molasses at the hole\n",
    "\n",
    "# Heat equation\n",
    "temp = np.full(N, AirTemp, dtype=np.float64) # Stores the temperature at the given index\n",
    "temp[0] = StartingTempMol # At the hole, the molasses is the same temperature as in the tank\n",
    "\n",
    "# Viscosity equation\n",
    "visc = np.zeros(N, dtype=np.float64)\n",
    "\n",
    "# Velocity equation\n",
    "vel = np.zeros(N, dtype=np.float64)\n",
    "vel[0] = StartingVelMol"
   ]
  },
  {
   "cell_type": "markdown",
   "id": "689c401d",
   "metadata": {},
   "source": [
    "# Box of Functions"
   ]
  },
  {
   "cell_type": "code",
   "execution_count": null,
   "id": "d09d58cc",
   "metadata": {},
   "outputs": [],
   "source": [
    "MAX_IND = 0 # Stores the maximum index that is filled with molasses. Will only be valid\n",
    "            # in 1D.\n",
    "\n",
    "def xStep(): # Updates the molasses progress bar and the value MAX_IND which all other quantities depend on\n",
    "    \n",
    "    v = vel[MAX_IND]\n",
    "    dx = v*h\n",
    "    dind = posToIndex(dx)\n",
    "    for i in range(MAX_IND+1, MAX_IND + 1 + dind):\n",
    "        hasMolasses[i] = True\n",
    "    \n",
    "    return dind, hasMolasses\n",
    "\n",
    "#----------------- Heat Equation Below-----------------# \n",
    "\n",
    "heatcon = h/(a*a)\n",
    "\n",
    "def alpha(T):\n",
    "    k = 1.3e-3*T + 0.403\n",
    "    return k/(2.56e3*1415)\n",
    "\n",
    "def HeatStep():\n",
    "    alphaarr = alpha(temp)\n",
    "    Tp = np.zeros(N, dtype=np.float64)\n",
    "    Tp[0] = StartingTempMol\n",
    "    Tp[1:MAX_IND] = temp[1:MAX_IND] + heatcon*alphaarr*(temp[2:MAX_IND+1] + temp[:MAX_IND-1] - 2*temp[1:MAX_IND])\n",
    "    temp = Tp\n",
    "\n",
    "#-----------------Viscosity Equation Below------------#\n",
    "\n",
    "E0 = 53.074\n",
    "R = 8.314\n",
    "mu0 = 2.3e-9\n",
    "\n",
    "def ViscEQ(T):\n",
    "    return mu0 * np.exp(-E0/(R*T))\n",
    "\n",
    "#----------------Equation of Motion Below-------------#\n",
    "\n",
    "# Note: Confined to 1 dimension, velocity is a scalar quantity, and gravity isn't a consideration\n",
    "\n",
    "\n",
    "\n",
    "def velStep(): # calculates the velocity at any position within any one timestep \n",
    "    \n",
    "    muarr = ViscEQ(temp)\n",
    "    velp = np.zeros(N, dtype=np.float64)\n",
    "    velp[0] = StartingVelMol\n",
    "    velp[1:MAX_IND] = vel[1:MAX_IND] + (-muarr*c)*(vel[2:MAX_IND+1] + vel[:MAX_IND-1] - 2*vel[1:MAX_IND])/density\n",
    "    vel = velp\n",
    "\n"
   ]
  },
  {
   "cell_type": "markdown",
   "id": "4f04cca4",
   "metadata": {},
   "source": [
    "This next code cell should run all of the above functions in a while loop over N. This accounts for all spatial steps. I haven't yet figured out the specific architecture for this routine but if MAX_IND is updating properly, it should be easy enough. Those three lines at the bottom need to be there in order to update dind, MAX_IND, and hasMolasses, and need to occur in that specific order."
   ]
  },
  {
   "cell_type": "code",
   "execution_count": null,
   "id": "6bab6cca",
   "metadata": {},
   "outputs": [],
   "source": [
    "\n",
    "while MAX_IND < N: \n",
    "\n",
    "\n",
    "\n",
    "\n",
    "\n",
    "dind = xStep()[0]\n",
    "hasMolasses = xStep()[1]\n",
    "\n",
    "MAX_IND += dind"
   ]
  },
  {
   "cell_type": "markdown",
   "id": "f46b19d4",
   "metadata": {},
   "source": [
    "This next code cell is the experimental 2D stuff I wanted to do. I haven't given up on it yet, but in the wake of revising the structure of the code I will need to re-evaluate how this function is meant to work."
   ]
  },
  {
   "cell_type": "code",
   "execution_count": null,
   "id": "6c19a63b",
   "metadata": {},
   "outputs": [],
   "source": [
    "# The stuff below is experimental\n",
    "# Trying to define a function that produces a 2D array of velocity values\n",
    "# With each row representing velocity values at a particular timestep\n",
    "# and each column representing a specific value in the simulation\n",
    "# (i.e. all column 1 entries are at x meters, column 2 is at x + a, etc.)\n",
    "# If this works we can do it for viscosity and temperature as well\n",
    "\n",
    "\n",
    "def velMap(duration):\n",
    "\n",
    "    dt = h\n",
    "\n",
    "    t = 0\n",
    "\n",
    "    velBox = [vel] # array of velocity arrays: each row is one timestep\n",
    "\n",
    "    while t < duration:\n",
    "        \n",
    "        xStep()\n",
    "\n",
    "        if MAX_IND > 2:\n",
    "            newvel = velStep()\n",
    "            velBox += [vel]\n",
    "        \n",
    "        t += dt\n",
    "    \n",
    "    return velBox\n",
    "mpl.imshow(velMap(1),aspect=\"auto\")\n",
    "mpl.show()\n",
    "    \n"
   ]
  }
 ],
 "metadata": {
  "kernelspec": {
   "display_name": "environment1",
   "language": "python",
   "name": "python3"
  },
  "language_info": {
   "codemirror_mode": {
    "name": "ipython",
    "version": 3
   },
   "file_extension": ".py",
   "mimetype": "text/x-python",
   "name": "python",
   "nbconvert_exporter": "python",
   "pygments_lexer": "ipython3",
   "version": "3.12.8"
  }
 },
 "nbformat": 4,
 "nbformat_minor": 5
}
